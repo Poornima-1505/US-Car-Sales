{
 "cells": [
  {
   "cell_type": "code",
   "execution_count": 1,
   "metadata": {},
   "outputs": [
    {
     "name": "stdout",
     "output_type": "stream",
     "text": [
      "Requirement already satisfied: xgboost in d:\\anaconda\\lib\\site-packages (1.0.2)\n",
      "Requirement already satisfied: scipy in d:\\anaconda\\lib\\site-packages (from xgboost) (1.4.1)\n",
      "Requirement already satisfied: numpy in d:\\anaconda\\lib\\site-packages (from xgboost) (1.16.5)\n",
      "Note: you may need to restart the kernel to use updated packages.\n"
     ]
    }
   ],
   "source": [
    "pip install xgboost"
   ]
  },
  {
   "cell_type": "code",
   "execution_count": 2,
   "metadata": {},
   "outputs": [
    {
     "name": "stdout",
     "output_type": "stream",
     "text": [
      "Requirement already satisfied: lightgbm in d:\\anaconda\\lib\\site-packages (2.3.1)\n",
      "Requirement already satisfied: numpy in d:\\anaconda\\lib\\site-packages (from lightgbm) (1.16.5)\n",
      "Requirement already satisfied: scikit-learn in d:\\anaconda\\lib\\site-packages (from lightgbm) (0.21.3)\n",
      "Requirement already satisfied: scipy in d:\\anaconda\\lib\\site-packages (from lightgbm) (1.4.1)\n",
      "Requirement already satisfied: joblib>=0.11 in d:\\anaconda\\lib\\site-packages (from scikit-learn->lightgbm) (0.13.2)\n",
      "Note: you may need to restart the kernel to use updated packages.\n"
     ]
    }
   ],
   "source": [
    "pip install lightgbm"
   ]
  },
  {
   "cell_type": "code",
   "execution_count": 8,
   "metadata": {},
   "outputs": [
    {
     "name": "stdout",
     "output_type": "stream",
     "text": [
      "Collecting pandas-profiling\n",
      "  Using cached https://files.pythonhosted.org/packages/82/86/203efa19d7d2a2b9abca62c454dcfa9649c4d5899374d4fb1c10ccfabb54/pandas_profiling-2.6.0-py2.py3-none-any.whl\n",
      "Collecting tqdm>=4.43.0 (from pandas-profiling)\n",
      "  Using cached https://files.pythonhosted.org/packages/4a/1c/6359be64e8301b84160f6f6f7936bbfaaa5e9a4eab6cbc681db07600b949/tqdm-4.45.0-py2.py3-none-any.whl\n",
      "Collecting jinja2>=2.11.1 (from pandas-profiling)\n",
      "  Using cached https://files.pythonhosted.org/packages/30/9e/f663a2aa66a09d838042ae1a2c5659828bb9b41ea3a6efa20a20fd92b121/Jinja2-2.11.2-py2.py3-none-any.whl\n",
      "Requirement already satisfied: pandas>=0.25.3 in d:\\anaconda\\lib\\site-packages (from pandas-profiling) (1.0.3)\n",
      "Requirement already satisfied: matplotlib>=3.2.0 in d:\\anaconda\\lib\\site-packages (from pandas-profiling) (3.2.1)\n",
      "Collecting phik>=0.9.10 (from pandas-profiling)\n",
      "  Using cached https://files.pythonhosted.org/packages/2c/a7/b3aed4c28894a275e0f3d3826cf3999c1bd8cbc446bbd6eb16c7675baa0d/phik-0.9.11-py3-none-any.whl\n",
      "Collecting htmlmin>=0.1.12 (from pandas-profiling)\n",
      "Collecting statsmodels>=0.11.1 (from pandas-profiling)\n",
      "  Using cached https://files.pythonhosted.org/packages/86/3c/d118973b8d85eeba14b3a306a5a06f920dd92878fa57c264dbe70b83a197/statsmodels-0.11.1-cp37-none-win_amd64.whl\n",
      "Requirement already satisfied: astropy>=4.0 in d:\\anaconda\\lib\\site-packages (from pandas-profiling) (4.0.1.post1)\n",
      "Collecting visions[type_image_path]>=0.4.1 (from pandas-profiling)\n",
      "  Using cached https://files.pythonhosted.org/packages/13/fe/7614dec3db3f20882ff12dae0a58b579e97b590f2994ce9c953fe179d512/visions-0.4.1-py3-none-any.whl\n",
      "Requirement already satisfied: requests>=2.23.0 in d:\\anaconda\\lib\\site-packages (from pandas-profiling) (2.23.0)\n",
      "Collecting confuse>=1.0.0 (from pandas-profiling)\n",
      "Requirement already satisfied: ipywidgets>=7.5.1 in d:\\anaconda\\lib\\site-packages (from pandas-profiling) (7.5.1)\n",
      "Requirement already satisfied: tangled-up-in-unicode>=0.0.4 in d:\\anaconda\\lib\\site-packages (from pandas-profiling) (0.0.4)\n",
      "Requirement already satisfied: missingno>=0.4.2 in d:\\anaconda\\lib\\site-packages (from pandas-profiling) (0.4.2)\n",
      "Requirement already satisfied: scipy>=1.4.1 in d:\\anaconda\\lib\\site-packages (from pandas-profiling) (1.4.1)\n",
      "Requirement already satisfied: numpy>=1.16.0 in d:\\anaconda\\lib\\site-packages (from pandas-profiling) (1.16.5)\n",
      "Requirement already satisfied: MarkupSafe>=0.23 in d:\\anaconda\\lib\\site-packages (from jinja2>=2.11.1->pandas-profiling) (1.1.1)\n",
      "Requirement already satisfied: python-dateutil>=2.6.1 in d:\\anaconda\\lib\\site-packages (from pandas>=0.25.3->pandas-profiling) (2.8.0)\n",
      "Requirement already satisfied: pytz>=2017.2 in d:\\anaconda\\lib\\site-packages (from pandas>=0.25.3->pandas-profiling) (2019.3)\n",
      "Requirement already satisfied: pyparsing!=2.0.4,!=2.1.2,!=2.1.6,>=2.0.1 in d:\\anaconda\\lib\\site-packages (from matplotlib>=3.2.0->pandas-profiling) (2.4.2)\n",
      "Requirement already satisfied: cycler>=0.10 in d:\\anaconda\\lib\\site-packages (from matplotlib>=3.2.0->pandas-profiling) (0.10.0)\n",
      "Requirement already satisfied: kiwisolver>=1.0.1 in d:\\anaconda\\lib\\site-packages (from matplotlib>=3.2.0->pandas-profiling) (1.1.0)\n",
      "Collecting joblib>=0.14.1 (from phik>=0.9.10->pandas-profiling)\n",
      "  Using cached https://files.pythonhosted.org/packages/28/5c/cf6a2b65a321c4a209efcdf64c2689efae2cb62661f8f6f4bb28547cf1bf/joblib-0.14.1-py2.py3-none-any.whl\n",
      "Requirement already satisfied: numba>=0.38.1 in d:\\anaconda\\lib\\site-packages (from phik>=0.9.10->pandas-profiling) (0.45.1)\n",
      "Requirement already satisfied: patsy>=0.5 in d:\\anaconda\\lib\\site-packages (from statsmodels>=0.11.1->pandas-profiling) (0.5.1)\n",
      "Collecting networkx>=2.4 (from visions[type_image_path]>=0.4.1->pandas-profiling)\n",
      "  Using cached https://files.pythonhosted.org/packages/41/8f/dd6a8e85946def36e4f2c69c84219af0fa5e832b018c970e92f2ad337e45/networkx-2.4-py3-none-any.whl\n",
      "Collecting attrs>=19.3.0 (from visions[type_image_path]>=0.4.1->pandas-profiling)\n",
      "  Using cached https://files.pythonhosted.org/packages/a2/db/4313ab3be961f7a763066401fb77f7748373b6094076ae2bda2806988af6/attrs-19.3.0-py2.py3-none-any.whl\n",
      "Requirement already satisfied: Pillow; extra == \"type_image_path\" in d:\\anaconda\\lib\\site-packages (from visions[type_image_path]>=0.4.1->pandas-profiling) (6.2.0)\n",
      "Collecting imagehash; extra == \"type_image_path\" (from visions[type_image_path]>=0.4.1->pandas-profiling)\n",
      "Requirement already satisfied: urllib3!=1.25.0,!=1.25.1,<1.26,>=1.21.1 in d:\\anaconda\\lib\\site-packages (from requests>=2.23.0->pandas-profiling) (1.24.2)\n",
      "Requirement already satisfied: certifi>=2017.4.17 in d:\\anaconda\\lib\\site-packages (from requests>=2.23.0->pandas-profiling) (2019.9.11)\n",
      "Requirement already satisfied: chardet<4,>=3.0.2 in d:\\anaconda\\lib\\site-packages (from requests>=2.23.0->pandas-profiling) (3.0.4)\n",
      "Requirement already satisfied: idna<3,>=2.5 in d:\\anaconda\\lib\\site-packages (from requests>=2.23.0->pandas-profiling) (2.8)\n",
      "Requirement already satisfied: pyyaml in d:\\anaconda\\lib\\site-packages (from confuse>=1.0.0->pandas-profiling) (5.1.2)\n",
      "Requirement already satisfied: nbformat>=4.2.0 in d:\\anaconda\\lib\\site-packages (from ipywidgets>=7.5.1->pandas-profiling) (4.4.0)\n",
      "Requirement already satisfied: traitlets>=4.3.1 in d:\\anaconda\\lib\\site-packages (from ipywidgets>=7.5.1->pandas-profiling) (4.3.3)\n",
      "Requirement already satisfied: widgetsnbextension~=3.5.0 in d:\\anaconda\\lib\\site-packages (from ipywidgets>=7.5.1->pandas-profiling) (3.5.1)\n",
      "Requirement already satisfied: ipykernel>=4.5.1 in d:\\anaconda\\lib\\site-packages (from ipywidgets>=7.5.1->pandas-profiling) (5.1.2)\n",
      "Requirement already satisfied: ipython>=4.0.0; python_version >= \"3.3\" in d:\\anaconda\\lib\\site-packages (from ipywidgets>=7.5.1->pandas-profiling) (7.8.0)\n",
      "Requirement already satisfied: seaborn in d:\\anaconda\\lib\\site-packages (from missingno>=0.4.2->pandas-profiling) (0.9.0)\n",
      "Requirement already satisfied: six>=1.5 in d:\\anaconda\\lib\\site-packages (from python-dateutil>=2.6.1->pandas>=0.25.3->pandas-profiling) (1.12.0)\n",
      "Requirement already satisfied: setuptools in d:\\anaconda\\lib\\site-packages (from kiwisolver>=1.0.1->matplotlib>=3.2.0->pandas-profiling) (41.4.0)\n",
      "Requirement already satisfied: llvmlite>=0.29.0dev0 in d:\\anaconda\\lib\\site-packages (from numba>=0.38.1->phik>=0.9.10->pandas-profiling) (0.29.0)\n",
      "Requirement already satisfied: decorator>=4.3.0 in d:\\anaconda\\lib\\site-packages (from networkx>=2.4->visions[type_image_path]>=0.4.1->pandas-profiling) (4.4.0)\n",
      "Requirement already satisfied: PyWavelets in d:\\anaconda\\lib\\site-packages (from imagehash; extra == \"type_image_path\"->visions[type_image_path]>=0.4.1->pandas-profiling) (1.0.3)\n",
      "Requirement already satisfied: ipython-genutils in d:\\anaconda\\lib\\site-packages (from nbformat>=4.2.0->ipywidgets>=7.5.1->pandas-profiling) (0.2.0)\n",
      "Requirement already satisfied: jsonschema!=2.5.0,>=2.4 in d:\\anaconda\\lib\\site-packages (from nbformat>=4.2.0->ipywidgets>=7.5.1->pandas-profiling) (3.0.2)\n",
      "Requirement already satisfied: jupyter-core in d:\\anaconda\\lib\\site-packages (from nbformat>=4.2.0->ipywidgets>=7.5.1->pandas-profiling) (4.5.0)\n",
      "Requirement already satisfied: notebook>=4.4.1 in d:\\anaconda\\lib\\site-packages (from widgetsnbextension~=3.5.0->ipywidgets>=7.5.1->pandas-profiling) (6.0.1)\n",
      "Requirement already satisfied: jupyter-client in d:\\anaconda\\lib\\site-packages (from ipykernel>=4.5.1->ipywidgets>=7.5.1->pandas-profiling) (5.3.3)\n",
      "Requirement already satisfied: tornado>=4.2 in d:\\anaconda\\lib\\site-packages (from ipykernel>=4.5.1->ipywidgets>=7.5.1->pandas-profiling) (6.0.3)\n",
      "Requirement already satisfied: backcall in d:\\anaconda\\lib\\site-packages (from ipython>=4.0.0; python_version >= \"3.3\"->ipywidgets>=7.5.1->pandas-profiling) (0.1.0)\n",
      "Requirement already satisfied: jedi>=0.10 in d:\\anaconda\\lib\\site-packages (from ipython>=4.0.0; python_version >= \"3.3\"->ipywidgets>=7.5.1->pandas-profiling) (0.15.1)\n",
      "Requirement already satisfied: pickleshare in d:\\anaconda\\lib\\site-packages (from ipython>=4.0.0; python_version >= \"3.3\"->ipywidgets>=7.5.1->pandas-profiling) (0.7.5)\n",
      "Requirement already satisfied: pygments in d:\\anaconda\\lib\\site-packages (from ipython>=4.0.0; python_version >= \"3.3\"->ipywidgets>=7.5.1->pandas-profiling) (2.4.2)\n",
      "Requirement already satisfied: prompt-toolkit<2.1.0,>=2.0.0 in d:\\anaconda\\lib\\site-packages (from ipython>=4.0.0; python_version >= \"3.3\"->ipywidgets>=7.5.1->pandas-profiling) (2.0.10)\n",
      "Requirement already satisfied: colorama; sys_platform == \"win32\" in d:\\anaconda\\lib\\site-packages (from ipython>=4.0.0; python_version >= \"3.3\"->ipywidgets>=7.5.1->pandas-profiling) (0.4.1)\n",
      "Requirement already satisfied: pyrsistent>=0.14.0 in d:\\anaconda\\lib\\site-packages (from jsonschema!=2.5.0,>=2.4->nbformat>=4.2.0->ipywidgets>=7.5.1->pandas-profiling) (0.15.4)\n",
      "Requirement already satisfied: pyzmq>=17 in d:\\anaconda\\lib\\site-packages (from notebook>=4.4.1->widgetsnbextension~=3.5.0->ipywidgets>=7.5.1->pandas-profiling) (18.1.0)\n",
      "Requirement already satisfied: nbconvert in d:\\anaconda\\lib\\site-packages (from notebook>=4.4.1->widgetsnbextension~=3.5.0->ipywidgets>=7.5.1->pandas-profiling) (5.6.0)\n",
      "Requirement already satisfied: terminado>=0.8.1 in d:\\anaconda\\lib\\site-packages (from notebook>=4.4.1->widgetsnbextension~=3.5.0->ipywidgets>=7.5.1->pandas-profiling) (0.8.2)\n",
      "Requirement already satisfied: prometheus-client in d:\\anaconda\\lib\\site-packages (from notebook>=4.4.1->widgetsnbextension~=3.5.0->ipywidgets>=7.5.1->pandas-profiling) (0.7.1)\n",
      "Requirement already satisfied: Send2Trash in d:\\anaconda\\lib\\site-packages (from notebook>=4.4.1->widgetsnbextension~=3.5.0->ipywidgets>=7.5.1->pandas-profiling) (1.5.0)\n",
      "Requirement already satisfied: pywin32>=1.0; sys_platform == \"win32\" in d:\\anaconda\\lib\\site-packages (from jupyter-client->ipykernel>=4.5.1->ipywidgets>=7.5.1->pandas-profiling) (223)\n",
      "Requirement already satisfied: parso>=0.5.0 in d:\\anaconda\\lib\\site-packages (from jedi>=0.10->ipython>=4.0.0; python_version >= \"3.3\"->ipywidgets>=7.5.1->pandas-profiling) (0.5.1)\n",
      "Requirement already satisfied: wcwidth in d:\\anaconda\\lib\\site-packages (from prompt-toolkit<2.1.0,>=2.0.0->ipython>=4.0.0; python_version >= \"3.3\"->ipywidgets>=7.5.1->pandas-profiling) (0.1.7)\n",
      "Requirement already satisfied: testpath in d:\\anaconda\\lib\\site-packages (from nbconvert->notebook>=4.4.1->widgetsnbextension~=3.5.0->ipywidgets>=7.5.1->pandas-profiling) (0.4.2)\n",
      "Requirement already satisfied: mistune<2,>=0.8.1 in d:\\anaconda\\lib\\site-packages (from nbconvert->notebook>=4.4.1->widgetsnbextension~=3.5.0->ipywidgets>=7.5.1->pandas-profiling) (0.8.4)\n",
      "Requirement already satisfied: pandocfilters>=1.4.1 in d:\\anaconda\\lib\\site-packages (from nbconvert->notebook>=4.4.1->widgetsnbextension~=3.5.0->ipywidgets>=7.5.1->pandas-profiling) (1.4.2)\n",
      "Requirement already satisfied: bleach in d:\\anaconda\\lib\\site-packages (from nbconvert->notebook>=4.4.1->widgetsnbextension~=3.5.0->ipywidgets>=7.5.1->pandas-profiling) (3.1.0)\n",
      "Requirement already satisfied: defusedxml in d:\\anaconda\\lib\\site-packages (from nbconvert->notebook>=4.4.1->widgetsnbextension~=3.5.0->ipywidgets>=7.5.1->pandas-profiling) (0.6.0)\n",
      "Requirement already satisfied: entrypoints>=0.2.2 in d:\\anaconda\\lib\\site-packages (from nbconvert->notebook>=4.4.1->widgetsnbextension~=3.5.0->ipywidgets>=7.5.1->pandas-profiling) (0.3)\n",
      "Requirement already satisfied: webencodings in d:\\anaconda\\lib\\site-packages (from bleach->nbconvert->notebook>=4.4.1->widgetsnbextension~=3.5.0->ipywidgets>=7.5.1->pandas-profiling) (0.5.1)\n",
      "Installing collected packages: tqdm, jinja2, joblib, phik, htmlmin, statsmodels, networkx, attrs, imagehash, visions, confuse, pandas-profiling\n",
      "Successfully installed attrs-19.3.0 confuse-1.1.0 htmlmin-0.1.12 imagehash-4.1.0 jinja2-2.11.2 joblib-0.14.1 networkx-2.4 pandas-profiling-2.6.0 phik-0.9.11 statsmodels-0.11.1 tqdm-4.45.0 visions-0.4.1\n",
      "Note: you may need to restart the kernel to use updated packages.\n"
     ]
    },
    {
     "name": "stderr",
     "output_type": "stream",
     "text": [
      "  WARNING: The script tqdm.exe is installed in 'C:\\Users\\Hp\\AppData\\Roaming\\Python\\Python37\\Scripts' which is not on PATH.\n",
      "  Consider adding this directory to PATH or, if you prefer to suppress this warning, use --no-warn-script-location.\n",
      "  WARNING: The script phik_trial.exe is installed in 'C:\\Users\\Hp\\AppData\\Roaming\\Python\\Python37\\Scripts' which is not on PATH.\n",
      "  Consider adding this directory to PATH or, if you prefer to suppress this warning, use --no-warn-script-location.\n",
      "  WARNING: The script htmlmin.exe is installed in 'C:\\Users\\Hp\\AppData\\Roaming\\Python\\Python37\\Scripts' which is not on PATH.\n",
      "  Consider adding this directory to PATH or, if you prefer to suppress this warning, use --no-warn-script-location.\n",
      "  WARNING: The script pandas_profiling.exe is installed in 'C:\\Users\\Hp\\AppData\\Roaming\\Python\\Python37\\Scripts' which is not on PATH.\n",
      "  Consider adding this directory to PATH or, if you prefer to suppress this warning, use --no-warn-script-location.\n"
     ]
    }
   ],
   "source": [
    "pip install pandas-profiling --user"
   ]
  },
  {
   "cell_type": "code",
   "execution_count": 2,
   "metadata": {},
   "outputs": [
    {
     "name": "stdout",
     "output_type": "stream",
     "text": [
      "Collecting hyperopt\n",
      "  Downloading https://files.pythonhosted.org/packages/90/d5/c7e276f4f7bc65ac26391c435245e5ef8911b4393e3df5a74906c48afeaf/hyperopt-0.2.4-py2.py3-none-any.whl (964kB)\n",
      "Requirement already satisfied: cloudpickle in d:\\anaconda\\lib\\site-packages (from hyperopt) (1.2.2)\n",
      "Requirement already satisfied: scipy in d:\\anaconda\\lib\\site-packages (from hyperopt) (1.4.1)\n",
      "Requirement already satisfied: six in d:\\anaconda\\lib\\site-packages (from hyperopt) (1.12.0)\n",
      "Requirement already satisfied: numpy in d:\\anaconda\\lib\\site-packages (from hyperopt) (1.16.5)\n",
      "Requirement already satisfied: networkx>=2.2 in c:\\users\\hp\\appdata\\roaming\\python\\python37\\site-packages (from hyperopt) (2.4)\n",
      "Requirement already satisfied: future in d:\\anaconda\\lib\\site-packages (from hyperopt) (0.17.1)\n",
      "Requirement already satisfied: tqdm in c:\\users\\hp\\appdata\\roaming\\python\\python37\\site-packages (from hyperopt) (4.45.0)\n",
      "Requirement already satisfied: decorator>=4.3.0 in d:\\anaconda\\lib\\site-packages (from networkx>=2.2->hyperopt) (4.4.0)\n",
      "Installing collected packages: hyperopt\n",
      "Successfully installed hyperopt-0.2.4\n",
      "Note: you may need to restart the kernel to use updated packages.\n"
     ]
    },
    {
     "name": "stderr",
     "output_type": "stream",
     "text": [
      "  WARNING: The script hyperopt-mongo-worker.exe is installed in 'C:\\Users\\Hp\\AppData\\Roaming\\Python\\Python37\\Scripts' which is not on PATH.\n",
      "  Consider adding this directory to PATH or, if you prefer to suppress this warning, use --no-warn-script-location.\n"
     ]
    }
   ],
   "source": [
    "pip install hyperopt --user"
   ]
  },
  {
   "cell_type": "code",
   "execution_count": 2,
   "metadata": {},
   "outputs": [
    {
     "name": "stderr",
     "output_type": "stream",
     "text": [
      "D:\\Anaconda\\lib\\site-packages\\dask\\dataframe\\utils.py:14: FutureWarning: pandas.util.testing is deprecated. Use the functions in the public API at pandas.testing instead.\n",
      "  import pandas.util.testing as tm\n"
     ]
    }
   ],
   "source": [
    "import numpy as np\n",
    "import pandas as pd\n",
    "import matplotlib.pyplot as plt\n",
    "%matplotlib inline\n",
    "\n",
    "# preprocessing\n",
    "from sklearn.preprocessing import LabelEncoder, StandardScaler\n",
    "from sklearn.model_selection import train_test_split, cross_val_score, GridSearchCV, StratifiedKFold\n",
    "import pandas_profiling as pp\n",
    "\n",
    "# models\n",
    "from sklearn.linear_model import LinearRegression, SGDRegressor, RidgeCV\n",
    "from sklearn.svm import SVR, LinearSVR\n",
    "from sklearn.ensemble import RandomForestRegressor, GradientBoostingRegressor, ExtraTreesRegressor \n",
    "from sklearn.ensemble import BaggingRegressor, AdaBoostRegressor, VotingRegressor \n",
    "from sklearn.neural_network import MLPRegressor\n",
    "from sklearn.tree import DecisionTreeRegressor\n",
    "import sklearn.model_selection\n",
    "from sklearn.model_selection import cross_val_predict as cvp\n",
    "from sklearn import metrics\n",
    "from sklearn.metrics import r2_score, mean_absolute_error, mean_squared_error\n",
    "import xgboost as xgb\n",
    "import lightgbm as lgb\n",
    "\n",
    "# model tuning\n",
    "from hyperopt import STATUS_OK, Trials, fmin, hp, tpe, space_eval\n",
    "\n",
    "import warnings\n",
    "warnings.filterwarnings(\"ignore\")"
   ]
  },
  {
   "cell_type": "code",
   "execution_count": 4,
   "metadata": {},
   "outputs": [],
   "source": [
    "valid_part = 0.3\n",
    "pd.set_option('max_columns',100)"
   ]
  },
  {
   "cell_type": "code",
   "execution_count": 72,
   "metadata": {},
   "outputs": [
    {
     "data": {
      "text/html": [
       "<div>\n",
       "<style scoped>\n",
       "    .dataframe tbody tr th:only-of-type {\n",
       "        vertical-align: middle;\n",
       "    }\n",
       "\n",
       "    .dataframe tbody tr th {\n",
       "        vertical-align: top;\n",
       "    }\n",
       "\n",
       "    .dataframe thead th {\n",
       "        text-align: right;\n",
       "    }\n",
       "</style>\n",
       "<table border=\"1\" class=\"dataframe\">\n",
       "  <thead>\n",
       "    <tr style=\"text-align: right;\">\n",
       "      <th></th>\n",
       "      <th>id</th>\n",
       "      <th>region</th>\n",
       "      <th>year</th>\n",
       "      <th>manufacturer</th>\n",
       "      <th>model</th>\n",
       "      <th>cylinders</th>\n",
       "      <th>fuel</th>\n",
       "      <th>odometer</th>\n",
       "      <th>title_status</th>\n",
       "      <th>transmission</th>\n",
       "      <th>drive</th>\n",
       "      <th>type</th>\n",
       "      <th>state</th>\n",
       "      <th>price</th>\n",
       "    </tr>\n",
       "  </thead>\n",
       "  <tbody>\n",
       "    <tr>\n",
       "      <th>0</th>\n",
       "      <td>7088746062</td>\n",
       "      <td>130</td>\n",
       "      <td>102</td>\n",
       "      <td>0</td>\n",
       "      <td>32349</td>\n",
       "      <td>5</td>\n",
       "      <td>2</td>\n",
       "      <td>90186.0</td>\n",
       "      <td>0</td>\n",
       "      <td>0</td>\n",
       "      <td>0</td>\n",
       "      <td>8</td>\n",
       "      <td>27</td>\n",
       "      <td>10299</td>\n",
       "    </tr>\n",
       "    <tr>\n",
       "      <th>1</th>\n",
       "      <td>7088745301</td>\n",
       "      <td>130</td>\n",
       "      <td>101</td>\n",
       "      <td>4</td>\n",
       "      <td>3710</td>\n",
       "      <td>5</td>\n",
       "      <td>2</td>\n",
       "      <td>115120.0</td>\n",
       "      <td>0</td>\n",
       "      <td>0</td>\n",
       "      <td>2</td>\n",
       "      <td>3</td>\n",
       "      <td>27</td>\n",
       "      <td>8995</td>\n",
       "    </tr>\n",
       "    <tr>\n",
       "      <th>2</th>\n",
       "      <td>7088744126</td>\n",
       "      <td>130</td>\n",
       "      <td>101</td>\n",
       "      <td>19</td>\n",
       "      <td>34777</td>\n",
       "      <td>5</td>\n",
       "      <td>2</td>\n",
       "      <td>85000.0</td>\n",
       "      <td>0</td>\n",
       "      <td>0</td>\n",
       "      <td>0</td>\n",
       "      <td>1</td>\n",
       "      <td>27</td>\n",
       "      <td>9500</td>\n",
       "    </tr>\n",
       "    <tr>\n",
       "      <th>3</th>\n",
       "      <td>7088743681</td>\n",
       "      <td>130</td>\n",
       "      <td>94</td>\n",
       "      <td>16</td>\n",
       "      <td>16308</td>\n",
       "      <td>5</td>\n",
       "      <td>2</td>\n",
       "      <td>212526.0</td>\n",
       "      <td>0</td>\n",
       "      <td>0</td>\n",
       "      <td>1</td>\n",
       "      <td>0</td>\n",
       "      <td>27</td>\n",
       "      <td>3995</td>\n",
       "    </tr>\n",
       "    <tr>\n",
       "      <th>4</th>\n",
       "      <td>7088741557</td>\n",
       "      <td>130</td>\n",
       "      <td>105</td>\n",
       "      <td>21</td>\n",
       "      <td>30832</td>\n",
       "      <td>5</td>\n",
       "      <td>2</td>\n",
       "      <td>85127.0</td>\n",
       "      <td>0</td>\n",
       "      <td>0</td>\n",
       "      <td>0</td>\n",
       "      <td>13</td>\n",
       "      <td>27</td>\n",
       "      <td>12995</td>\n",
       "    </tr>\n",
       "  </tbody>\n",
       "</table>\n",
       "</div>"
      ],
      "text/plain": [
       "           id  region  year  manufacturer  model  cylinders  fuel  odometer  \\\n",
       "0  7088746062     130   102             0  32349          5     2   90186.0   \n",
       "1  7088745301     130   101             4   3710          5     2  115120.0   \n",
       "2  7088744126     130   101            19  34777          5     2   85000.0   \n",
       "3  7088743681     130    94            16  16308          5     2  212526.0   \n",
       "4  7088741557     130   105            21  30832          5     2   85127.0   \n",
       "\n",
       "   title_status  transmission  drive  type  state  price  \n",
       "0             0             0      0     8     27  10299  \n",
       "1             0             0      2     3     27   8995  \n",
       "2             0             0      0     1     27   9500  \n",
       "3             0             0      1     0     27   3995  \n",
       "4             0             0      0    13     27  12995  "
      ]
     },
     "execution_count": 72,
     "metadata": {},
     "output_type": "execute_result"
    }
   ],
   "source": [
    "train0 = pd.read_csv('C:/Users/Hp/Downloads/Vehicles_cleaned_int.csv')\n",
    "train0.head(5)"
   ]
  },
  {
   "cell_type": "code",
   "execution_count": 73,
   "metadata": {},
   "outputs": [],
   "source": [
    "train0 = train0.drop('id', axis=1)"
   ]
  },
  {
   "cell_type": "code",
   "execution_count": 1,
   "metadata": {
    "scrolled": true
   },
   "outputs": [
    {
     "ename": "NameError",
     "evalue": "name 'train0' is not defined",
     "output_type": "error",
     "traceback": [
      "\u001b[1;31m---------------------------------------------------------------------------\u001b[0m",
      "\u001b[1;31mNameError\u001b[0m                                 Traceback (most recent call last)",
      "\u001b[1;32m<ipython-input-1-fb299a773021>\u001b[0m in \u001b[0;36m<module>\u001b[1;34m\u001b[0m\n\u001b[1;32m----> 1\u001b[1;33m \u001b[0mtrain0\u001b[0m\u001b[1;33m.\u001b[0m\u001b[0mhead\u001b[0m\u001b[1;33m(\u001b[0m\u001b[1;36m5\u001b[0m\u001b[1;33m)\u001b[0m\u001b[1;33m\u001b[0m\u001b[1;33m\u001b[0m\u001b[0m\n\u001b[0m",
      "\u001b[1;31mNameError\u001b[0m: name 'train0' is not defined"
     ]
    }
   ],
   "source": [
    "\n",
    "train0.head(5)"
   ]
  },
  {
   "cell_type": "code",
   "execution_count": 75,
   "metadata": {},
   "outputs": [],
   "source": [
    "numerics = ['int8', 'int16', 'int32', 'int64', 'float16', 'float32', 'float64']\n",
    "categorical_columns = []\n",
    "features = train0.columns.values.tolist()\n",
    "for col in features:\n",
    "    if train0[col].dtype in numerics: continue\n",
    "    categorical_columns.append(col)\n",
    "# Encoding categorical features\n",
    "for col in categorical_columns:\n",
    "    if col in train0.columns:\n",
    "        le = LabelEncoder()\n",
    "        le.fit(list(train0[col].astype(str).values))\n",
    "        train0[col] = le.transform(list(train0[col].astype(str).values))"
   ]
  },
  {
   "cell_type": "code",
   "execution_count": 76,
   "metadata": {},
   "outputs": [],
   "source": [
    "\n",
    "train0['odometer'] = train0['odometer'].astype(int)"
   ]
  },
  {
   "cell_type": "code",
   "execution_count": 77,
   "metadata": {},
   "outputs": [
    {
     "data": {
      "text/html": [
       "<div>\n",
       "<style scoped>\n",
       "    .dataframe tbody tr th:only-of-type {\n",
       "        vertical-align: middle;\n",
       "    }\n",
       "\n",
       "    .dataframe tbody tr th {\n",
       "        vertical-align: top;\n",
       "    }\n",
       "\n",
       "    .dataframe thead th {\n",
       "        text-align: right;\n",
       "    }\n",
       "</style>\n",
       "<table border=\"1\" class=\"dataframe\">\n",
       "  <thead>\n",
       "    <tr style=\"text-align: right;\">\n",
       "      <th></th>\n",
       "      <th>region</th>\n",
       "      <th>year</th>\n",
       "      <th>manufacturer</th>\n",
       "      <th>model</th>\n",
       "      <th>cylinders</th>\n",
       "      <th>fuel</th>\n",
       "      <th>odometer</th>\n",
       "      <th>title_status</th>\n",
       "      <th>transmission</th>\n",
       "      <th>drive</th>\n",
       "      <th>type</th>\n",
       "      <th>state</th>\n",
       "      <th>price</th>\n",
       "    </tr>\n",
       "  </thead>\n",
       "  <tbody>\n",
       "    <tr>\n",
       "      <th>0</th>\n",
       "      <td>130</td>\n",
       "      <td>102</td>\n",
       "      <td>0</td>\n",
       "      <td>32349</td>\n",
       "      <td>5</td>\n",
       "      <td>2</td>\n",
       "      <td>90186</td>\n",
       "      <td>0</td>\n",
       "      <td>0</td>\n",
       "      <td>0</td>\n",
       "      <td>8</td>\n",
       "      <td>27</td>\n",
       "      <td>10299</td>\n",
       "    </tr>\n",
       "    <tr>\n",
       "      <th>1</th>\n",
       "      <td>130</td>\n",
       "      <td>101</td>\n",
       "      <td>4</td>\n",
       "      <td>3710</td>\n",
       "      <td>5</td>\n",
       "      <td>2</td>\n",
       "      <td>115120</td>\n",
       "      <td>0</td>\n",
       "      <td>0</td>\n",
       "      <td>2</td>\n",
       "      <td>3</td>\n",
       "      <td>27</td>\n",
       "      <td>8995</td>\n",
       "    </tr>\n",
       "    <tr>\n",
       "      <th>2</th>\n",
       "      <td>130</td>\n",
       "      <td>101</td>\n",
       "      <td>19</td>\n",
       "      <td>34777</td>\n",
       "      <td>5</td>\n",
       "      <td>2</td>\n",
       "      <td>85000</td>\n",
       "      <td>0</td>\n",
       "      <td>0</td>\n",
       "      <td>0</td>\n",
       "      <td>1</td>\n",
       "      <td>27</td>\n",
       "      <td>9500</td>\n",
       "    </tr>\n",
       "    <tr>\n",
       "      <th>3</th>\n",
       "      <td>130</td>\n",
       "      <td>94</td>\n",
       "      <td>16</td>\n",
       "      <td>16308</td>\n",
       "      <td>5</td>\n",
       "      <td>2</td>\n",
       "      <td>212526</td>\n",
       "      <td>0</td>\n",
       "      <td>0</td>\n",
       "      <td>1</td>\n",
       "      <td>0</td>\n",
       "      <td>27</td>\n",
       "      <td>3995</td>\n",
       "    </tr>\n",
       "    <tr>\n",
       "      <th>4</th>\n",
       "      <td>130</td>\n",
       "      <td>105</td>\n",
       "      <td>21</td>\n",
       "      <td>30832</td>\n",
       "      <td>5</td>\n",
       "      <td>2</td>\n",
       "      <td>85127</td>\n",
       "      <td>0</td>\n",
       "      <td>0</td>\n",
       "      <td>0</td>\n",
       "      <td>13</td>\n",
       "      <td>27</td>\n",
       "      <td>12995</td>\n",
       "    </tr>\n",
       "    <tr>\n",
       "      <th>5</th>\n",
       "      <td>130</td>\n",
       "      <td>104</td>\n",
       "      <td>7</td>\n",
       "      <td>32869</td>\n",
       "      <td>5</td>\n",
       "      <td>2</td>\n",
       "      <td>112383</td>\n",
       "      <td>0</td>\n",
       "      <td>0</td>\n",
       "      <td>1</td>\n",
       "      <td>0</td>\n",
       "      <td>27</td>\n",
       "      <td>10995</td>\n",
       "    </tr>\n",
       "    <tr>\n",
       "      <th>6</th>\n",
       "      <td>130</td>\n",
       "      <td>101</td>\n",
       "      <td>4</td>\n",
       "      <td>4630</td>\n",
       "      <td>5</td>\n",
       "      <td>2</td>\n",
       "      <td>124446</td>\n",
       "      <td>0</td>\n",
       "      <td>0</td>\n",
       "      <td>0</td>\n",
       "      <td>10</td>\n",
       "      <td>27</td>\n",
       "      <td>8995</td>\n",
       "    </tr>\n",
       "    <tr>\n",
       "      <th>7</th>\n",
       "      <td>130</td>\n",
       "      <td>97</td>\n",
       "      <td>38</td>\n",
       "      <td>30399</td>\n",
       "      <td>5</td>\n",
       "      <td>2</td>\n",
       "      <td>185123</td>\n",
       "      <td>0</td>\n",
       "      <td>0</td>\n",
       "      <td>1</td>\n",
       "      <td>3</td>\n",
       "      <td>27</td>\n",
       "      <td>3995</td>\n",
       "    </tr>\n",
       "    <tr>\n",
       "      <th>8</th>\n",
       "      <td>130</td>\n",
       "      <td>95</td>\n",
       "      <td>38</td>\n",
       "      <td>31483</td>\n",
       "      <td>5</td>\n",
       "      <td>2</td>\n",
       "      <td>181020</td>\n",
       "      <td>0</td>\n",
       "      <td>0</td>\n",
       "      <td>0</td>\n",
       "      <td>8</td>\n",
       "      <td>27</td>\n",
       "      <td>8995</td>\n",
       "    </tr>\n",
       "    <tr>\n",
       "      <th>9</th>\n",
       "      <td>130</td>\n",
       "      <td>98</td>\n",
       "      <td>30</td>\n",
       "      <td>20331</td>\n",
       "      <td>5</td>\n",
       "      <td>2</td>\n",
       "      <td>162214</td>\n",
       "      <td>0</td>\n",
       "      <td>0</td>\n",
       "      <td>1</td>\n",
       "      <td>9</td>\n",
       "      <td>27</td>\n",
       "      <td>7995</td>\n",
       "    </tr>\n",
       "  </tbody>\n",
       "</table>\n",
       "</div>"
      ],
      "text/plain": [
       "   region  year  manufacturer  model  cylinders  fuel  odometer  title_status  \\\n",
       "0     130   102             0  32349          5     2     90186             0   \n",
       "1     130   101             4   3710          5     2    115120             0   \n",
       "2     130   101            19  34777          5     2     85000             0   \n",
       "3     130    94            16  16308          5     2    212526             0   \n",
       "4     130   105            21  30832          5     2     85127             0   \n",
       "5     130   104             7  32869          5     2    112383             0   \n",
       "6     130   101             4   4630          5     2    124446             0   \n",
       "7     130    97            38  30399          5     2    185123             0   \n",
       "8     130    95            38  31483          5     2    181020             0   \n",
       "9     130    98            30  20331          5     2    162214             0   \n",
       "\n",
       "   transmission  drive  type  state  price  \n",
       "0             0      0     8     27  10299  \n",
       "1             0      2     3     27   8995  \n",
       "2             0      0     1     27   9500  \n",
       "3             0      1     0     27   3995  \n",
       "4             0      0    13     27  12995  \n",
       "5             0      1     0     27  10995  \n",
       "6             0      0    10     27   8995  \n",
       "7             0      1     3     27   3995  \n",
       "8             0      0     8     27   8995  \n",
       "9             0      1     9     27   7995  "
      ]
     },
     "execution_count": 77,
     "metadata": {},
     "output_type": "execute_result"
    }
   ],
   "source": [
    "train0.head(10)"
   ]
  },
  {
   "cell_type": "code",
   "execution_count": 78,
   "metadata": {},
   "outputs": [
    {
     "name": "stdout",
     "output_type": "stream",
     "text": [
      "<class 'pandas.core.frame.DataFrame'>\n",
      "RangeIndex: 522603 entries, 0 to 522602\n",
      "Data columns (total 13 columns):\n",
      " #   Column        Non-Null Count   Dtype\n",
      "---  ------        --------------   -----\n",
      " 0   region        522603 non-null  int64\n",
      " 1   year          522603 non-null  int64\n",
      " 2   manufacturer  522603 non-null  int64\n",
      " 3   model         522603 non-null  int64\n",
      " 4   cylinders     522603 non-null  int64\n",
      " 5   fuel          522603 non-null  int64\n",
      " 6   odometer      522603 non-null  int32\n",
      " 7   title_status  522603 non-null  int64\n",
      " 8   transmission  522603 non-null  int64\n",
      " 9   drive         522603 non-null  int64\n",
      " 10  type          522603 non-null  int64\n",
      " 11  state         522603 non-null  int64\n",
      " 12  price         522603 non-null  int64\n",
      "dtypes: int32(1), int64(12)\n",
      "memory usage: 49.8 MB\n"
     ]
    }
   ],
   "source": [
    "train0.info()"
   ]
  },
  {
   "cell_type": "code",
   "execution_count": 79,
   "metadata": {},
   "outputs": [],
   "source": [
    "train0 = train0.sample(144902)"
   ]
  },
  {
   "cell_type": "code",
   "execution_count": 80,
   "metadata": {},
   "outputs": [
    {
     "name": "stdout",
     "output_type": "stream",
     "text": [
      "<class 'pandas.core.frame.DataFrame'>\n",
      "Int64Index: 144902 entries, 98569 to 50249\n",
      "Data columns (total 13 columns):\n",
      " #   Column        Non-Null Count   Dtype\n",
      "---  ------        --------------   -----\n",
      " 0   region        144902 non-null  int64\n",
      " 1   year          144902 non-null  int64\n",
      " 2   manufacturer  144902 non-null  int64\n",
      " 3   model         144902 non-null  int64\n",
      " 4   cylinders     144902 non-null  int64\n",
      " 5   fuel          144902 non-null  int64\n",
      " 6   odometer      144902 non-null  int32\n",
      " 7   title_status  144902 non-null  int64\n",
      " 8   transmission  144902 non-null  int64\n",
      " 9   drive         144902 non-null  int64\n",
      " 10  type          144902 non-null  int64\n",
      " 11  state         144902 non-null  int64\n",
      " 12  price         144902 non-null  int64\n",
      "dtypes: int32(1), int64(12)\n",
      "memory usage: 14.9 MB\n"
     ]
    }
   ],
   "source": [
    "train0.info()"
   ]
  },
  {
   "cell_type": "code",
   "execution_count": 81,
   "metadata": {},
   "outputs": [],
   "source": [
    "target_name = 'price'\n",
    "train_target0 = train0[target_name]\n",
    "train0 = train0.drop([target_name], axis=1)"
   ]
  },
  {
   "cell_type": "code",
   "execution_count": 82,
   "metadata": {},
   "outputs": [],
   "source": [
    "train0, test0, train_target0, test_target0 = train_test_split(train0, train_target0, test_size=0.2, random_state=0)"
   ]
  },
  {
   "cell_type": "code",
   "execution_count": 83,
   "metadata": {},
   "outputs": [],
   "source": [
    "train0b = train0\n",
    "train_target0b = train_target0\n",
    "# Synthesis valid as test for selection models\n",
    "trainb, testb, targetb, target_testb = train_test_split(train0b, train_target0b, test_size=valid_part, random_state=0)"
   ]
  },
  {
   "cell_type": "code",
   "execution_count": 84,
   "metadata": {},
   "outputs": [],
   "source": [
    "scaler = StandardScaler()\n",
    "train0 = pd.DataFrame(scaler.fit_transform(train0), columns = train0.columns)"
   ]
  },
  {
   "cell_type": "code",
   "execution_count": 85,
   "metadata": {},
   "outputs": [
    {
     "data": {
      "text/html": [
       "<div>\n",
       "<style scoped>\n",
       "    .dataframe tbody tr th:only-of-type {\n",
       "        vertical-align: middle;\n",
       "    }\n",
       "\n",
       "    .dataframe tbody tr th {\n",
       "        vertical-align: top;\n",
       "    }\n",
       "\n",
       "    .dataframe thead th {\n",
       "        text-align: right;\n",
       "    }\n",
       "</style>\n",
       "<table border=\"1\" class=\"dataframe\">\n",
       "  <thead>\n",
       "    <tr style=\"text-align: right;\">\n",
       "      <th></th>\n",
       "      <th>region</th>\n",
       "      <th>year</th>\n",
       "      <th>manufacturer</th>\n",
       "      <th>model</th>\n",
       "      <th>cylinders</th>\n",
       "      <th>fuel</th>\n",
       "      <th>odometer</th>\n",
       "      <th>title_status</th>\n",
       "      <th>transmission</th>\n",
       "      <th>drive</th>\n",
       "      <th>type</th>\n",
       "      <th>state</th>\n",
       "    </tr>\n",
       "  </thead>\n",
       "  <tbody>\n",
       "    <tr>\n",
       "      <th>0</th>\n",
       "      <td>-1.477736</td>\n",
       "      <td>0.148541</td>\n",
       "      <td>-1.020768</td>\n",
       "      <td>1.027200</td>\n",
       "      <td>0.212583</td>\n",
       "      <td>3.171980</td>\n",
       "      <td>0.308472</td>\n",
       "      <td>-0.20132</td>\n",
       "      <td>-0.33238</td>\n",
       "      <td>-0.727178</td>\n",
       "      <td>0.815785</td>\n",
       "      <td>-0.397737</td>\n",
       "    </tr>\n",
       "    <tr>\n",
       "      <th>1</th>\n",
       "      <td>-0.958089</td>\n",
       "      <td>0.381082</td>\n",
       "      <td>-1.204620</td>\n",
       "      <td>0.307110</td>\n",
       "      <td>0.212583</td>\n",
       "      <td>0.110041</td>\n",
       "      <td>-0.032366</td>\n",
       "      <td>-0.20132</td>\n",
       "      <td>-0.33238</td>\n",
       "      <td>-0.727178</td>\n",
       "      <td>1.033607</td>\n",
       "      <td>-0.132201</td>\n",
       "    </tr>\n",
       "    <tr>\n",
       "      <th>2</th>\n",
       "      <td>1.231245</td>\n",
       "      <td>0.962432</td>\n",
       "      <td>-0.469210</td>\n",
       "      <td>-0.248293</td>\n",
       "      <td>0.212583</td>\n",
       "      <td>-2.951899</td>\n",
       "      <td>-0.407881</td>\n",
       "      <td>-0.20132</td>\n",
       "      <td>-0.33238</td>\n",
       "      <td>-0.727178</td>\n",
       "      <td>0.815785</td>\n",
       "      <td>-0.729656</td>\n",
       "    </tr>\n",
       "  </tbody>\n",
       "</table>\n",
       "</div>"
      ],
      "text/plain": [
       "     region      year  manufacturer     model  cylinders      fuel  odometer  \\\n",
       "0 -1.477736  0.148541     -1.020768  1.027200   0.212583  3.171980  0.308472   \n",
       "1 -0.958089  0.381082     -1.204620  0.307110   0.212583  0.110041 -0.032366   \n",
       "2  1.231245  0.962432     -0.469210 -0.248293   0.212583 -2.951899 -0.407881   \n",
       "\n",
       "   title_status  transmission     drive      type     state  \n",
       "0      -0.20132      -0.33238 -0.727178  0.815785 -0.397737  \n",
       "1      -0.20132      -0.33238 -0.727178  1.033607 -0.132201  \n",
       "2      -0.20132      -0.33238 -0.727178  0.815785 -0.729656  "
      ]
     },
     "execution_count": 85,
     "metadata": {},
     "output_type": "execute_result"
    }
   ],
   "source": [
    "train0.head(3)"
   ]
  },
  {
   "cell_type": "code",
   "execution_count": 86,
   "metadata": {},
   "outputs": [
    {
     "data": {
      "text/plain": [
       "115921"
      ]
     },
     "execution_count": 86,
     "metadata": {},
     "output_type": "execute_result"
    }
   ],
   "source": [
    "len(train0)"
   ]
  },
  {
   "cell_type": "code",
   "execution_count": 87,
   "metadata": {},
   "outputs": [],
   "source": [
    "train, test, target, target_test = train_test_split(train0, train_target0, test_size=valid_part, random_state=0)"
   ]
  },
  {
   "cell_type": "code",
   "execution_count": 88,
   "metadata": {},
   "outputs": [],
   "source": [
    "acc_train_r2 = []\n",
    "acc_test_r2 = []\n",
    "acc_train_d = []\n",
    "acc_test_d = []\n",
    "acc_train_rmse = []\n",
    "acc_test_rmse = []"
   ]
  },
  {
   "cell_type": "code",
   "execution_count": 89,
   "metadata": {},
   "outputs": [],
   "source": [
    "def acc_d(y_meas, y_pred):\n",
    "    # Relative error between predicted y_pred and measured y_meas values\n",
    "    return mean_absolute_error(y_meas, y_pred)*len(y_meas)/sum(abs(y_meas))\n",
    "\n",
    "def acc_rmse(y_meas, y_pred):\n",
    "    # RMSE between predicted y_pred and measured y_meas values\n",
    "    return (mean_squared_error(y_meas, y_pred))**0.5"
   ]
  },
  {
   "cell_type": "code",
   "execution_count": 90,
   "metadata": {},
   "outputs": [],
   "source": [
    "def acc_boosting_model(num,model,train,test,num_iteration=0):\n",
    "    # Calculation of accuracy of boosting model by different metrics\n",
    "    \n",
    "    global acc_train_r2, acc_test_r2, acc_train_d, acc_test_d, acc_train_rmse, acc_test_rmse\n",
    "    \n",
    "    if num_iteration > 0:\n",
    "        ytrain = model.predict(train, num_iteration = num_iteration)  \n",
    "        ytest = model.predict(test, num_iteration = num_iteration)\n",
    "    else:\n",
    "        ytrain = model.predict(train)  \n",
    "        ytest = model.predict(test)\n",
    "\n",
    "    print('target = ', targetb[:5].values)\n",
    "    print('ytrain = ', ytrain[:5])\n",
    "\n",
    "    acc_train_r2_num = round(r2_score(targetb, ytrain) * 100, 2)\n",
    "    print('acc(r2_score) for train =', acc_train_r2_num)   \n",
    "    acc_train_r2.insert(num, acc_train_r2_num)\n",
    "\n",
    "    acc_train_d_num = round(acc_d(targetb, ytrain) * 100, 2)\n",
    "    print('acc(relative error) for train =', acc_train_d_num)   \n",
    "    acc_train_d.insert(num, acc_train_d_num)\n",
    "\n",
    "    acc_train_rmse_num = round(acc_rmse(targetb, ytrain) * 100, 2)\n",
    "    print('acc(rmse) for train =', acc_train_rmse_num)   \n",
    "    acc_train_rmse.insert(num, acc_train_rmse_num)\n",
    "\n",
    "    print('target_test =', target_testb[:5].values)\n",
    "    print('ytest =', ytest[:5])\n",
    "    \n",
    "    acc_test_r2_num = round(r2_score(target_testb, ytest) * 100, 2)\n",
    "    print('acc(r2_score) for test =', acc_test_r2_num)\n",
    "    acc_test_r2.insert(num, acc_test_r2_num)\n",
    "    \n",
    "    acc_test_d_num = round(acc_d(target_testb, ytest) * 100, 2)\n",
    "    print('acc(relative error) for test =', acc_test_d_num)\n",
    "    acc_test_d.insert(num, acc_test_d_num)\n",
    "    \n",
    "    acc_test_rmse_num = round(acc_rmse(target_testb, ytest) * 100, 2)\n",
    "    print('acc(rmse) for test =', acc_test_rmse_num)\n",
    "    acc_test_rmse.insert(num, acc_test_rmse_num)"
   ]
  },
  {
   "cell_type": "code",
   "execution_count": 91,
   "metadata": {},
   "outputs": [],
   "source": [
    "def acc_model(num,model,train,test):\n",
    "    # Calculation of accuracy of model акщь Sklearn by different metrics   \n",
    "  \n",
    "    global acc_train_r2, acc_test_r2, acc_train_d, acc_test_d, acc_train_rmse, acc_test_rmse\n",
    "    \n",
    "    ytrain = model.predict(train)  \n",
    "    ytest = model.predict(test)\n",
    "\n",
    "    print('target = ', target[:5].values)\n",
    "    print('ytrain = ', ytrain[:5])\n",
    "\n",
    "    acc_train_r2_num = round(r2_score(target, ytrain) * 100, 2)\n",
    "    print('acc(r2_score) for train =', acc_train_r2_num)   \n",
    "    acc_train_r2.insert(num, acc_train_r2_num)\n",
    "\n",
    "    acc_train_d_num = round(acc_d(target, ytrain) * 100, 2)\n",
    "    print('acc(relative error) for train =', acc_train_d_num)   \n",
    "    acc_train_d.insert(num, acc_train_d_num)\n",
    "\n",
    "    acc_train_rmse_num = round(acc_rmse(target, ytrain) * 100, 2)\n",
    "    print('acc(rmse) for train =', acc_train_rmse_num)   \n",
    "    acc_train_rmse.insert(num, acc_train_rmse_num)\n",
    "\n",
    "    print('target_test =', target_test[:5].values)\n",
    "    print('ytest =', ytest[:5])\n",
    "    \n",
    "    acc_test_r2_num = round(r2_score(target_test, ytest) * 100, 2)\n",
    "    print('acc(r2_score) for test =', acc_test_r2_num)\n",
    "    acc_test_r2.insert(num, acc_test_r2_num)\n",
    "    \n",
    "    acc_test_d_num = round(acc_d(target_test, ytest) * 100, 2)\n",
    "    print('acc(relative error) for test =', acc_test_d_num)\n",
    "    acc_test_d.insert(num, acc_test_d_num)\n",
    "    \n",
    "    acc_test_rmse_num = round(acc_rmse(target_test, ytest) * 100, 2)\n",
    "    print('acc(rmse) for test =', acc_test_rmse_num)\n",
    "    acc_test_rmse.insert(num, acc_test_rmse_num)"
   ]
  },
  {
   "cell_type": "code",
   "execution_count": 92,
   "metadata": {},
   "outputs": [
    {
     "name": "stdout",
     "output_type": "stream",
     "text": [
      "target =  [23800 16500  9200  5899 12500]\n",
      "ytrain =  [14872.86547994 13481.79657572  7066.09240245  9367.80881952\n",
      " 10588.79341269]\n",
      "acc(r2_score) for train = 25.1\n",
      "acc(relative error) for train = 45.83\n",
      "acc(rmse) for train = 727776.95\n",
      "target_test = [ 8800  8995  8995 14750  7500]\n",
      "ytest = [14067.29849509 10879.62826578 10304.20089836 11662.00675807\n",
      " -2930.92206564]\n",
      "acc(r2_score) for test = -28.29\n",
      "acc(relative error) for test = 46.51\n",
      "acc(rmse) for test = 957360.39\n"
     ]
    }
   ],
   "source": [
    "linreg = LinearRegression()\n",
    "linreg.fit(train, target)\n",
    "acc_model(0,linreg,train,test)"
   ]
  },
  {
   "cell_type": "code",
   "execution_count": 93,
   "metadata": {},
   "outputs": [
    {
     "name": "stdout",
     "output_type": "stream",
     "text": [
      "target =  [23800 16500  9200  5899 12500]\n",
      "ytrain =  [10049.14770951  9524.81162496  8782.98449883  9370.73169078\n",
      "  9947.09901864]\n",
      "acc(r2_score) for train = 1.96\n",
      "acc(relative error) for train = 50.15\n",
      "acc(rmse) for train = 832659.44\n",
      "target_test = [ 8800  8995  8995 14750  7500]\n",
      "ytest = [ 9586.44351519 10150.53705101  9233.6567148   9636.17815368\n",
      "  9268.68422993]\n",
      "acc(r2_score) for test = 2.22\n",
      "acc(relative error) for test = 50.47\n",
      "acc(rmse) for test = 835831.23\n"
     ]
    }
   ],
   "source": [
    "svr = SVR()\n",
    "svr.fit(train, target)\n",
    "acc_model(1,svr,train,test)"
   ]
  },
  {
   "cell_type": "code",
   "execution_count": 94,
   "metadata": {},
   "outputs": [
    {
     "name": "stdout",
     "output_type": "stream",
     "text": [
      "target =  [23800 16500  9200  5899 12500]\n",
      "ytrain =  [23780.  17609.9  7878.   5814.1 13490. ]\n",
      "acc(r2_score) for train = 94.16\n",
      "acc(relative error) for train = 10.22\n",
      "acc(rmse) for train = 203228.23\n",
      "target_test = [ 8800  8995  8995 14750  7500]\n",
      "ytest = [14761.6 13064.6  8376.1 14600.   6387.2]\n",
      "acc(r2_score) for test = 68.48\n",
      "acc(relative error) for test = 25.52\n",
      "acc(rmse) for test = 474583.25\n"
     ]
    }
   ],
   "source": [
    "random_forest = RandomForestRegressor()\n",
    "random_forest.fit(train, target)\n",
    "acc_model(6,random_forest,train,test)"
   ]
  },
  {
   "cell_type": "code",
   "execution_count": 95,
   "metadata": {},
   "outputs": [],
   "source": [
    "Xtrain, Xval, Ztrain, Zval = train_test_split(trainb, targetb, test_size=0.2, random_state=0)\n",
    "train_set = lgb.Dataset(Xtrain, Ztrain, silent=False)\n",
    "valid_set = lgb.Dataset(Xval, Zval, silent=False)"
   ]
  },
  {
   "cell_type": "code",
   "execution_count": 96,
   "metadata": {},
   "outputs": [
    {
     "name": "stdout",
     "output_type": "stream",
     "text": [
      "Training until validation scores don't improve for 8000 rounds\n",
      "[500]\tvalid_0's rmse: 5131.71\n",
      "[1000]\tvalid_0's rmse: 4927.51\n",
      "[1500]\tvalid_0's rmse: 4837.17\n",
      "[2000]\tvalid_0's rmse: 4769.57\n",
      "[2500]\tvalid_0's rmse: 4718.01\n",
      "[3000]\tvalid_0's rmse: 4675.56\n",
      "[3500]\tvalid_0's rmse: 4643.32\n",
      "[4000]\tvalid_0's rmse: 4616.26\n",
      "[4500]\tvalid_0's rmse: 4591.16\n",
      "[5000]\tvalid_0's rmse: 4568.75\n",
      "[5500]\tvalid_0's rmse: 4550.14\n",
      "[6000]\tvalid_0's rmse: 4533.74\n",
      "[6500]\tvalid_0's rmse: 4517.11\n",
      "[7000]\tvalid_0's rmse: 4501.76\n",
      "[7500]\tvalid_0's rmse: 4487.31\n",
      "[8000]\tvalid_0's rmse: 4474.78\n",
      "[8500]\tvalid_0's rmse: 4462.82\n",
      "[9000]\tvalid_0's rmse: 4451.89\n",
      "[9500]\tvalid_0's rmse: 4441.9\n",
      "[10000]\tvalid_0's rmse: 4432.11\n",
      "Did not meet early stopping. Best iteration is:\n",
      "[9997]\tvalid_0's rmse: 4432.09\n"
     ]
    }
   ],
   "source": [
    "params = {\n",
    "        'boosting_type':'gbdt',\n",
    "        'objective': 'regression',\n",
    "        'num_leaves': 31,\n",
    "        'learning_rate': 0.01,\n",
    "        'max_depth': -1,\n",
    "        'subsample': 0.8,\n",
    "        'bagging_fraction' : 1,\n",
    "        'max_bin' : 5000 ,\n",
    "        'bagging_freq': 20,\n",
    "        'colsample_bytree': 0.6,\n",
    "        'metric': 'rmse',\n",
    "        'min_split_gain': 0.5,\n",
    "        'min_child_weight': 1,\n",
    "        'min_child_samples': 10,\n",
    "        'scale_pos_weight':1,\n",
    "        'zero_as_missing': False,\n",
    "        'seed':0,        \n",
    "    }\n",
    "modelL = lgb.train(params, train_set = train_set, num_boost_round=10000,\n",
    "                   early_stopping_rounds=8000,verbose_eval=500, valid_sets=valid_set)"
   ]
  },
  {
   "cell_type": "code",
   "execution_count": 63,
   "metadata": {},
   "outputs": [
    {
     "name": "stdout",
     "output_type": "stream",
     "text": [
      "target =  [ 3500  8995 10999  8995  7999]\n",
      "ytrain =  [ 3409.88422987 24689.55794539  7449.88594746  6417.56701193\n",
      "  8331.71047988]\n",
      "acc(r2_score) for train = 82.22\n",
      "acc(relative error) for train = 19.7\n",
      "acc(rmse) for train = 354788.0\n",
      "target_test = [ 5400  8995   999 19200  5999]\n",
      "ytest = [ 8166.19913736  9558.66520648 10544.91360341 10070.33159828\n",
      "  8589.20977453]\n",
      "acc(r2_score) for test = 72.96\n",
      "acc(relative error) for test = 23.83\n",
      "acc(rmse) for test = 442049.97\n"
     ]
    }
   ],
   "source": [
    "acc_boosting_model(8,modelL,trainb,testb,modelL.best_iteration)"
   ]
  },
  {
   "cell_type": "code",
   "execution_count": 105,
   "metadata": {},
   "outputs": [
    {
     "data": {
      "image/png": "[encoded data removed]",
      "text/plain": [
       "<Figure size 576x432 with 1 Axes>"
      ]
     },
     "metadata": {
      "needs_background": "light"
     },
     "output_type": "display_data"
    }
   ],
   "source": [
    "fig = plt.figure(figsize = (8,6))\n",
    "axes = fig.add_subplot(111)\n",
    "lgb.plot_importance(modelL,ax = axes,height = 0.5)\n",
    "plt.show();\n",
    "plt.close()"
   ]
  }
 ],
 "metadata": {
  "kernelspec": {
   "display_name": "Python 3",
   "language": "python",
   "name": "python3"
  },
  "language_info": {
   "codemirror_mode": {
    "name": "ipython",
    "version": 3
   },
   "file_extension": ".py",
   "mimetype": "text/x-python",
   "name": "python",
   "nbconvert_exporter": "python",
   "pygments_lexer": "ipython3",
   "version": "3.7.6"
  }
 },
 "nbformat": 4,
 "nbformat_minor": 2
}
